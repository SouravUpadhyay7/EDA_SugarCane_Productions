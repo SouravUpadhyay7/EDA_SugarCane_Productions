{
 "cells": [
  {
   "cell_type": "code",
   "execution_count": 2,
   "id": "2df1eb31-f912-4780-a15b-852322ea5886",
   "metadata": {},
   "outputs": [],
   "source": [
    "import pandas as pd\n",
    "import seaborn as sns\n",
    "from matplotlib import pyplot as plt"
   ]
  },
  {
   "cell_type": "code",
   "execution_count": 3,
   "id": "c8d32810-caab-4500-9fb3-0c789789387b",
   "metadata": {},
   "outputs": [],
   "source": [
    "df = pd.read_csv(\"List of Countries by Sugarcane Production.csv\")"
   ]
  },
  {
   "cell_type": "code",
   "execution_count": 4,
   "id": "1e7153d7-9c69-405c-a71c-c4f88b9c6dab",
   "metadata": {},
   "outputs": [
    {
     "data": {
      "text/html": [
       "<div>\n",
       "<style scoped>\n",
       "    .dataframe tbody tr th:only-of-type {\n",
       "        vertical-align: middle;\n",
       "    }\n",
       "\n",
       "    .dataframe tbody tr th {\n",
       "        vertical-align: top;\n",
       "    }\n",
       "\n",
       "    .dataframe thead th {\n",
       "        text-align: right;\n",
       "    }\n",
       "</style>\n",
       "<table border=\"1\" class=\"dataframe\">\n",
       "  <thead>\n",
       "    <tr style=\"text-align: right;\">\n",
       "      <th></th>\n",
       "      <th>Unnamed: 0</th>\n",
       "      <th>Country</th>\n",
       "      <th>Continent</th>\n",
       "      <th>Production (Tons)</th>\n",
       "      <th>Production per Person (Kg)</th>\n",
       "      <th>Acreage (Hectare)</th>\n",
       "      <th>Yield (Kg / Hectare)</th>\n",
       "    </tr>\n",
       "  </thead>\n",
       "  <tbody>\n",
       "    <tr>\n",
       "      <th>0</th>\n",
       "      <td>0</td>\n",
       "      <td>Brazil</td>\n",
       "      <td>South America</td>\n",
       "      <td>768.678.382</td>\n",
       "      <td>3.668,531</td>\n",
       "      <td>10.226.205</td>\n",
       "      <td>75.167,5</td>\n",
       "    </tr>\n",
       "    <tr>\n",
       "      <th>1</th>\n",
       "      <td>1</td>\n",
       "      <td>India</td>\n",
       "      <td>Asia</td>\n",
       "      <td>348.448.000</td>\n",
       "      <td>260721</td>\n",
       "      <td>4.950.000</td>\n",
       "      <td>70.393,5</td>\n",
       "    </tr>\n",
       "    <tr>\n",
       "      <th>2</th>\n",
       "      <td>2</td>\n",
       "      <td>China</td>\n",
       "      <td>Asia</td>\n",
       "      <td>123.059.739</td>\n",
       "      <td>88287</td>\n",
       "      <td>1.675.215</td>\n",
       "      <td>73.459,1</td>\n",
       "    </tr>\n",
       "    <tr>\n",
       "      <th>3</th>\n",
       "      <td>3</td>\n",
       "      <td>Thailand</td>\n",
       "      <td>Asia</td>\n",
       "      <td>87.468.496</td>\n",
       "      <td>1.264,303</td>\n",
       "      <td>1.336.575</td>\n",
       "      <td>65.442,2</td>\n",
       "    </tr>\n",
       "    <tr>\n",
       "      <th>4</th>\n",
       "      <td>4</td>\n",
       "      <td>Pakistan</td>\n",
       "      <td>Asia</td>\n",
       "      <td>65.450.704</td>\n",
       "      <td>324219</td>\n",
       "      <td>1.130.820</td>\n",
       "      <td>57.879</td>\n",
       "    </tr>\n",
       "  </tbody>\n",
       "</table>\n",
       "</div>"
      ],
      "text/plain": [
       "   Unnamed: 0   Country      Continent Production (Tons)  \\\n",
       "0           0    Brazil  South America       768.678.382   \n",
       "1           1     India           Asia       348.448.000   \n",
       "2           2     China           Asia       123.059.739   \n",
       "3           3  Thailand           Asia        87.468.496   \n",
       "4           4  Pakistan           Asia        65.450.704   \n",
       "\n",
       "  Production per Person (Kg) Acreage (Hectare) Yield (Kg / Hectare)  \n",
       "0                  3.668,531        10.226.205             75.167,5  \n",
       "1                     260721         4.950.000             70.393,5  \n",
       "2                      88287         1.675.215             73.459,1  \n",
       "3                  1.264,303         1.336.575             65.442,2  \n",
       "4                     324219         1.130.820               57.879  "
      ]
     },
     "execution_count": 4,
     "metadata": {},
     "output_type": "execute_result"
    }
   ],
   "source": [
    "df.head()"
   ]
  },
  {
   "cell_type": "code",
   "execution_count": 5,
   "id": "5d4a366c-884a-4348-85d2-a2b4a7fae12d",
   "metadata": {},
   "outputs": [
    {
     "data": {
      "text/plain": [
       "(103, 7)"
      ]
     },
     "execution_count": 5,
     "metadata": {},
     "output_type": "execute_result"
    }
   ],
   "source": [
    "df.shape"
   ]
  },
  {
   "cell_type": "markdown",
   "id": "8007cb50-e8d1-4d2a-abd6-72a9a07a9b06",
   "metadata": {},
   "source": [
    "## Data Cleaning"
   ]
  },
  {
   "cell_type": "code",
   "execution_count": 6,
   "id": "52b69dab-b07c-453e-b2da-712e3d522295",
   "metadata": {},
   "outputs": [],
   "source": [
    "df[\"Production (Tons)\"] = df[\"Production (Tons)\"].str.replace(\".\", \"\")"
   ]
  },
  {
   "cell_type": "code",
   "execution_count": 7,
   "id": "e4565c08-c2be-48d2-81b1-7fd5e81ee960",
   "metadata": {},
   "outputs": [
    {
     "data": {
      "text/html": [
       "<div>\n",
       "<style scoped>\n",
       "    .dataframe tbody tr th:only-of-type {\n",
       "        vertical-align: middle;\n",
       "    }\n",
       "\n",
       "    .dataframe tbody tr th {\n",
       "        vertical-align: top;\n",
       "    }\n",
       "\n",
       "    .dataframe thead th {\n",
       "        text-align: right;\n",
       "    }\n",
       "</style>\n",
       "<table border=\"1\" class=\"dataframe\">\n",
       "  <thead>\n",
       "    <tr style=\"text-align: right;\">\n",
       "      <th></th>\n",
       "      <th>Unnamed: 0</th>\n",
       "      <th>Country</th>\n",
       "      <th>Continent</th>\n",
       "      <th>Production (Tons)</th>\n",
       "      <th>Production per Person (Kg)</th>\n",
       "      <th>Acreage (Hectare)</th>\n",
       "      <th>Yield (Kg / Hectare)</th>\n",
       "    </tr>\n",
       "  </thead>\n",
       "  <tbody>\n",
       "    <tr>\n",
       "      <th>0</th>\n",
       "      <td>0</td>\n",
       "      <td>Brazil</td>\n",
       "      <td>South America</td>\n",
       "      <td>768678382</td>\n",
       "      <td>3.668,531</td>\n",
       "      <td>10.226.205</td>\n",
       "      <td>75.167,5</td>\n",
       "    </tr>\n",
       "    <tr>\n",
       "      <th>1</th>\n",
       "      <td>1</td>\n",
       "      <td>India</td>\n",
       "      <td>Asia</td>\n",
       "      <td>348448000</td>\n",
       "      <td>260721</td>\n",
       "      <td>4.950.000</td>\n",
       "      <td>70.393,5</td>\n",
       "    </tr>\n",
       "    <tr>\n",
       "      <th>2</th>\n",
       "      <td>2</td>\n",
       "      <td>China</td>\n",
       "      <td>Asia</td>\n",
       "      <td>123059739</td>\n",
       "      <td>88287</td>\n",
       "      <td>1.675.215</td>\n",
       "      <td>73.459,1</td>\n",
       "    </tr>\n",
       "    <tr>\n",
       "      <th>3</th>\n",
       "      <td>3</td>\n",
       "      <td>Thailand</td>\n",
       "      <td>Asia</td>\n",
       "      <td>87468496</td>\n",
       "      <td>1.264,303</td>\n",
       "      <td>1.336.575</td>\n",
       "      <td>65.442,2</td>\n",
       "    </tr>\n",
       "    <tr>\n",
       "      <th>4</th>\n",
       "      <td>4</td>\n",
       "      <td>Pakistan</td>\n",
       "      <td>Asia</td>\n",
       "      <td>65450704</td>\n",
       "      <td>324219</td>\n",
       "      <td>1.130.820</td>\n",
       "      <td>57.879</td>\n",
       "    </tr>\n",
       "  </tbody>\n",
       "</table>\n",
       "</div>"
      ],
      "text/plain": [
       "   Unnamed: 0   Country      Continent Production (Tons)  \\\n",
       "0           0    Brazil  South America         768678382   \n",
       "1           1     India           Asia         348448000   \n",
       "2           2     China           Asia         123059739   \n",
       "3           3  Thailand           Asia          87468496   \n",
       "4           4  Pakistan           Asia          65450704   \n",
       "\n",
       "  Production per Person (Kg) Acreage (Hectare) Yield (Kg / Hectare)  \n",
       "0                  3.668,531        10.226.205             75.167,5  \n",
       "1                     260721         4.950.000             70.393,5  \n",
       "2                      88287         1.675.215             73.459,1  \n",
       "3                  1.264,303         1.336.575             65.442,2  \n",
       "4                     324219         1.130.820               57.879  "
      ]
     },
     "execution_count": 7,
     "metadata": {},
     "output_type": "execute_result"
    }
   ],
   "source": [
    "df.head()"
   ]
  },
  {
   "cell_type": "code",
   "execution_count": 8,
   "id": "8e7d740c-b7d8-45d3-9043-92495c226be2",
   "metadata": {},
   "outputs": [],
   "source": [
    "df[\"Production per Person (Kg)\"] = df[\"Production per Person (Kg)\"].str.replace(\".\", \"\").str.replace(\",\",\".\")"
   ]
  },
  {
   "cell_type": "code",
   "execution_count": 9,
   "id": "2cb1deca-06ac-4c10-b878-0be9bf59eb19",
   "metadata": {},
   "outputs": [],
   "source": [
    "df[\"Acreage (Hectare)\"] = df[\"Acreage (Hectare)\"].str.replace(\".\", \"\")"
   ]
  },
  {
   "cell_type": "code",
   "execution_count": 10,
   "id": "f01712ba-3b3a-4337-81bf-df80f7c02f1d",
   "metadata": {},
   "outputs": [],
   "source": [
    "df[\"Yield (Kg / Hectare)\"] = df[\"Yield (Kg / Hectare)\"].str.replace(\".\", \"\").str.replace(\",\",\".\")"
   ]
  },
  {
   "cell_type": "code",
   "execution_count": 11,
   "id": "59eac25a-7893-4f2f-b353-e9d9160a0df9",
   "metadata": {},
   "outputs": [
    {
     "data": {
      "text/html": [
       "<div>\n",
       "<style scoped>\n",
       "    .dataframe tbody tr th:only-of-type {\n",
       "        vertical-align: middle;\n",
       "    }\n",
       "\n",
       "    .dataframe tbody tr th {\n",
       "        vertical-align: top;\n",
       "    }\n",
       "\n",
       "    .dataframe thead th {\n",
       "        text-align: right;\n",
       "    }\n",
       "</style>\n",
       "<table border=\"1\" class=\"dataframe\">\n",
       "  <thead>\n",
       "    <tr style=\"text-align: right;\">\n",
       "      <th></th>\n",
       "      <th>Unnamed: 0</th>\n",
       "      <th>Country</th>\n",
       "      <th>Continent</th>\n",
       "      <th>Production (Tons)</th>\n",
       "      <th>Production per Person (Kg)</th>\n",
       "      <th>Acreage (Hectare)</th>\n",
       "      <th>Yield (Kg / Hectare)</th>\n",
       "    </tr>\n",
       "  </thead>\n",
       "  <tbody>\n",
       "    <tr>\n",
       "      <th>0</th>\n",
       "      <td>0</td>\n",
       "      <td>Brazil</td>\n",
       "      <td>South America</td>\n",
       "      <td>768678382</td>\n",
       "      <td>3668.531</td>\n",
       "      <td>10226205</td>\n",
       "      <td>75167.5</td>\n",
       "    </tr>\n",
       "    <tr>\n",
       "      <th>1</th>\n",
       "      <td>1</td>\n",
       "      <td>India</td>\n",
       "      <td>Asia</td>\n",
       "      <td>348448000</td>\n",
       "      <td>260721</td>\n",
       "      <td>4950000</td>\n",
       "      <td>70393.5</td>\n",
       "    </tr>\n",
       "    <tr>\n",
       "      <th>2</th>\n",
       "      <td>2</td>\n",
       "      <td>China</td>\n",
       "      <td>Asia</td>\n",
       "      <td>123059739</td>\n",
       "      <td>88287</td>\n",
       "      <td>1675215</td>\n",
       "      <td>73459.1</td>\n",
       "    </tr>\n",
       "    <tr>\n",
       "      <th>3</th>\n",
       "      <td>3</td>\n",
       "      <td>Thailand</td>\n",
       "      <td>Asia</td>\n",
       "      <td>87468496</td>\n",
       "      <td>1264.303</td>\n",
       "      <td>1336575</td>\n",
       "      <td>65442.2</td>\n",
       "    </tr>\n",
       "    <tr>\n",
       "      <th>4</th>\n",
       "      <td>4</td>\n",
       "      <td>Pakistan</td>\n",
       "      <td>Asia</td>\n",
       "      <td>65450704</td>\n",
       "      <td>324219</td>\n",
       "      <td>1130820</td>\n",
       "      <td>57879</td>\n",
       "    </tr>\n",
       "  </tbody>\n",
       "</table>\n",
       "</div>"
      ],
      "text/plain": [
       "   Unnamed: 0   Country      Continent Production (Tons)  \\\n",
       "0           0    Brazil  South America         768678382   \n",
       "1           1     India           Asia         348448000   \n",
       "2           2     China           Asia         123059739   \n",
       "3           3  Thailand           Asia          87468496   \n",
       "4           4  Pakistan           Asia          65450704   \n",
       "\n",
       "  Production per Person (Kg) Acreage (Hectare) Yield (Kg / Hectare)  \n",
       "0                   3668.531          10226205              75167.5  \n",
       "1                     260721           4950000              70393.5  \n",
       "2                      88287           1675215              73459.1  \n",
       "3                   1264.303           1336575              65442.2  \n",
       "4                     324219           1130820                57879  "
      ]
     },
     "execution_count": 11,
     "metadata": {},
     "output_type": "execute_result"
    }
   ],
   "source": [
    "df.head()"
   ]
  },
  {
   "cell_type": "code",
   "execution_count": 12,
   "id": "4d40d0c1-a2eb-42f2-ac68-bfb9d373bfbc",
   "metadata": {},
   "outputs": [],
   "source": [
    "df[\"Acreage (Hectare)\"] = df[\"Acreage (Hectare)\"].astype(float)"
   ]
  },
  {
   "cell_type": "code",
   "execution_count": 13,
   "id": "f4514b14-1904-4465-a7df-da6c2c4db473",
   "metadata": {},
   "outputs": [],
   "source": [
    "df[\"Production (Tons)\"] = df[\"Production (Tons)\"].astype(float)"
   ]
  },
  {
   "cell_type": "code",
   "execution_count": 14,
   "id": "82f51baa-5ae7-4417-8557-3d615f7276dc",
   "metadata": {},
   "outputs": [
    {
     "data": {
      "text/plain": [
       "Unnamed: 0                      int64\n",
       "Country                        object\n",
       "Continent                      object\n",
       "Production (Tons)             float64\n",
       "Production per Person (Kg)     object\n",
       "Acreage (Hectare)             float64\n",
       "Yield (Kg / Hectare)           object\n",
       "dtype: object"
      ]
     },
     "execution_count": 14,
     "metadata": {},
     "output_type": "execute_result"
    }
   ],
   "source": [
    "df.dtypes"
   ]
  },
  {
   "cell_type": "code",
   "execution_count": 15,
   "id": "ad99a19d-6028-4911-88dd-f2ddabc2eda6",
   "metadata": {},
   "outputs": [
    {
     "data": {
      "text/html": [
       "<div>\n",
       "<style scoped>\n",
       "    .dataframe tbody tr th:only-of-type {\n",
       "        vertical-align: middle;\n",
       "    }\n",
       "\n",
       "    .dataframe tbody tr th {\n",
       "        vertical-align: top;\n",
       "    }\n",
       "\n",
       "    .dataframe thead th {\n",
       "        text-align: right;\n",
       "    }\n",
       "</style>\n",
       "<table border=\"1\" class=\"dataframe\">\n",
       "  <thead>\n",
       "    <tr style=\"text-align: right;\">\n",
       "      <th></th>\n",
       "      <th>Unnamed: 0</th>\n",
       "      <th>Country</th>\n",
       "      <th>Continent</th>\n",
       "      <th>Production (Tons)</th>\n",
       "      <th>Production per Person (Kg)</th>\n",
       "      <th>Acreage (Hectare)</th>\n",
       "      <th>Yield (Kg / Hectare)</th>\n",
       "    </tr>\n",
       "  </thead>\n",
       "  <tbody>\n",
       "    <tr>\n",
       "      <th>0</th>\n",
       "      <td>0</td>\n",
       "      <td>Brazil</td>\n",
       "      <td>South America</td>\n",
       "      <td>768678382.0</td>\n",
       "      <td>3668.531</td>\n",
       "      <td>10226205.0</td>\n",
       "      <td>75167.5</td>\n",
       "    </tr>\n",
       "    <tr>\n",
       "      <th>1</th>\n",
       "      <td>1</td>\n",
       "      <td>India</td>\n",
       "      <td>Asia</td>\n",
       "      <td>348448000.0</td>\n",
       "      <td>260721</td>\n",
       "      <td>4950000.0</td>\n",
       "      <td>70393.5</td>\n",
       "    </tr>\n",
       "    <tr>\n",
       "      <th>2</th>\n",
       "      <td>2</td>\n",
       "      <td>China</td>\n",
       "      <td>Asia</td>\n",
       "      <td>123059739.0</td>\n",
       "      <td>88287</td>\n",
       "      <td>1675215.0</td>\n",
       "      <td>73459.1</td>\n",
       "    </tr>\n",
       "    <tr>\n",
       "      <th>3</th>\n",
       "      <td>3</td>\n",
       "      <td>Thailand</td>\n",
       "      <td>Asia</td>\n",
       "      <td>87468496.0</td>\n",
       "      <td>1264.303</td>\n",
       "      <td>1336575.0</td>\n",
       "      <td>65442.2</td>\n",
       "    </tr>\n",
       "    <tr>\n",
       "      <th>4</th>\n",
       "      <td>4</td>\n",
       "      <td>Pakistan</td>\n",
       "      <td>Asia</td>\n",
       "      <td>65450704.0</td>\n",
       "      <td>324219</td>\n",
       "      <td>1130820.0</td>\n",
       "      <td>57879</td>\n",
       "    </tr>\n",
       "  </tbody>\n",
       "</table>\n",
       "</div>"
      ],
      "text/plain": [
       "   Unnamed: 0   Country      Continent  Production (Tons)  \\\n",
       "0           0    Brazil  South America        768678382.0   \n",
       "1           1     India           Asia        348448000.0   \n",
       "2           2     China           Asia        123059739.0   \n",
       "3           3  Thailand           Asia         87468496.0   \n",
       "4           4  Pakistan           Asia         65450704.0   \n",
       "\n",
       "  Production per Person (Kg)  Acreage (Hectare) Yield (Kg / Hectare)  \n",
       "0                   3668.531         10226205.0              75167.5  \n",
       "1                     260721          4950000.0              70393.5  \n",
       "2                      88287          1675215.0              73459.1  \n",
       "3                   1264.303          1336575.0              65442.2  \n",
       "4                     324219          1130820.0                57879  "
      ]
     },
     "execution_count": 15,
     "metadata": {},
     "output_type": "execute_result"
    }
   ],
   "source": [
    "df.head()"
   ]
  },
  {
   "cell_type": "code",
   "execution_count": 16,
   "id": "cc13bad6-cc00-47d7-abf3-6f6f1f3729e7",
   "metadata": {},
   "outputs": [],
   "source": [
    "df[\"Yield (Kg / Hectare)\"] = df[\"Yield (Kg / Hectare)\"].astype(float)\n",
    "df[\"Production per Person (Kg\"] = df[\"Production per Person (Kg)\"].astype(float)"
   ]
  },
  {
   "cell_type": "code",
   "execution_count": 17,
   "id": "97d38728-0cbf-4e8a-ad4d-8696e863f8a0",
   "metadata": {},
   "outputs": [
    {
     "data": {
      "text/html": [
       "<div>\n",
       "<style scoped>\n",
       "    .dataframe tbody tr th:only-of-type {\n",
       "        vertical-align: middle;\n",
       "    }\n",
       "\n",
       "    .dataframe tbody tr th {\n",
       "        vertical-align: top;\n",
       "    }\n",
       "\n",
       "    .dataframe thead th {\n",
       "        text-align: right;\n",
       "    }\n",
       "</style>\n",
       "<table border=\"1\" class=\"dataframe\">\n",
       "  <thead>\n",
       "    <tr style=\"text-align: right;\">\n",
       "      <th></th>\n",
       "      <th>Unnamed: 0</th>\n",
       "      <th>Country</th>\n",
       "      <th>Continent</th>\n",
       "      <th>Production (Tons)</th>\n",
       "      <th>Production per Person (Kg)</th>\n",
       "      <th>Acreage (Hectare)</th>\n",
       "      <th>Yield (Kg / Hectare)</th>\n",
       "      <th>Production per Person (Kg</th>\n",
       "    </tr>\n",
       "  </thead>\n",
       "  <tbody>\n",
       "    <tr>\n",
       "      <th>0</th>\n",
       "      <td>0</td>\n",
       "      <td>Brazil</td>\n",
       "      <td>South America</td>\n",
       "      <td>768678382.0</td>\n",
       "      <td>3668.531</td>\n",
       "      <td>10226205.0</td>\n",
       "      <td>75167.5</td>\n",
       "      <td>3668.531</td>\n",
       "    </tr>\n",
       "    <tr>\n",
       "      <th>1</th>\n",
       "      <td>1</td>\n",
       "      <td>India</td>\n",
       "      <td>Asia</td>\n",
       "      <td>348448000.0</td>\n",
       "      <td>260721</td>\n",
       "      <td>4950000.0</td>\n",
       "      <td>70393.5</td>\n",
       "      <td>260721.000</td>\n",
       "    </tr>\n",
       "    <tr>\n",
       "      <th>2</th>\n",
       "      <td>2</td>\n",
       "      <td>China</td>\n",
       "      <td>Asia</td>\n",
       "      <td>123059739.0</td>\n",
       "      <td>88287</td>\n",
       "      <td>1675215.0</td>\n",
       "      <td>73459.1</td>\n",
       "      <td>88287.000</td>\n",
       "    </tr>\n",
       "    <tr>\n",
       "      <th>3</th>\n",
       "      <td>3</td>\n",
       "      <td>Thailand</td>\n",
       "      <td>Asia</td>\n",
       "      <td>87468496.0</td>\n",
       "      <td>1264.303</td>\n",
       "      <td>1336575.0</td>\n",
       "      <td>65442.2</td>\n",
       "      <td>1264.303</td>\n",
       "    </tr>\n",
       "    <tr>\n",
       "      <th>4</th>\n",
       "      <td>4</td>\n",
       "      <td>Pakistan</td>\n",
       "      <td>Asia</td>\n",
       "      <td>65450704.0</td>\n",
       "      <td>324219</td>\n",
       "      <td>1130820.0</td>\n",
       "      <td>57879.0</td>\n",
       "      <td>324219.000</td>\n",
       "    </tr>\n",
       "  </tbody>\n",
       "</table>\n",
       "</div>"
      ],
      "text/plain": [
       "   Unnamed: 0   Country      Continent  Production (Tons)  \\\n",
       "0           0    Brazil  South America        768678382.0   \n",
       "1           1     India           Asia        348448000.0   \n",
       "2           2     China           Asia        123059739.0   \n",
       "3           3  Thailand           Asia         87468496.0   \n",
       "4           4  Pakistan           Asia         65450704.0   \n",
       "\n",
       "  Production per Person (Kg)  Acreage (Hectare)  Yield (Kg / Hectare)  \\\n",
       "0                   3668.531         10226205.0               75167.5   \n",
       "1                     260721          4950000.0               70393.5   \n",
       "2                      88287          1675215.0               73459.1   \n",
       "3                   1264.303          1336575.0               65442.2   \n",
       "4                     324219          1130820.0               57879.0   \n",
       "\n",
       "   Production per Person (Kg  \n",
       "0                   3668.531  \n",
       "1                 260721.000  \n",
       "2                  88287.000  \n",
       "3                   1264.303  \n",
       "4                 324219.000  "
      ]
     },
     "execution_count": 17,
     "metadata": {},
     "output_type": "execute_result"
    }
   ],
   "source": [
    "df.head()"
   ]
  },
  {
   "cell_type": "code",
   "execution_count": 18,
   "id": "2cd779b0-daf1-4fd3-959e-4014b5761e78",
   "metadata": {},
   "outputs": [
    {
     "data": {
      "text/plain": [
       "Unnamed: 0                      int64\n",
       "Country                        object\n",
       "Continent                      object\n",
       "Production (Tons)             float64\n",
       "Production per Person (Kg)     object\n",
       "Acreage (Hectare)             float64\n",
       "Yield (Kg / Hectare)          float64\n",
       "Production per Person (Kg     float64\n",
       "dtype: object"
      ]
     },
     "execution_count": 18,
     "metadata": {},
     "output_type": "execute_result"
    }
   ],
   "source": [
    "df.dtypes"
   ]
  },
  {
   "cell_type": "code",
   "execution_count": 19,
   "id": "e14a9c98-0c7d-47a4-9963-b61c40ed250f",
   "metadata": {},
   "outputs": [],
   "source": [
    "df[\"Production per Person (Kg\"] = df[\"Production per Person (Kg)\"].astype(float)"
   ]
  },
  {
   "cell_type": "code",
   "execution_count": 20,
   "id": "840df9ba-f594-4169-9273-64dcc45c3dbd",
   "metadata": {},
   "outputs": [],
   "source": [
    "df[\"Production per Person (Kg\"] = df[\"Production per Person (Kg)\"].astype(float)"
   ]
  },
  {
   "cell_type": "code",
   "execution_count": 21,
   "id": "f319beb0-9191-44b4-baed-1d9cab18163a",
   "metadata": {},
   "outputs": [],
   "source": [
    "df[\"Production per Person (Kg)\"] = df[\"Production per Person (Kg)\"].str.replace(\".\",\"\").str.replace(\",\",\".\")"
   ]
  },
  {
   "cell_type": "code",
   "execution_count": 22,
   "id": "32f8fdf6-d88b-40aa-84e9-b86fc73e5458",
   "metadata": {},
   "outputs": [],
   "source": [
    "df[\"Production per Person (Kg\"] = df[\"Production per Person (Kg)\"].astype(float)"
   ]
  },
  {
   "cell_type": "code",
   "execution_count": 23,
   "id": "4d11f40e-45d5-4e4d-bacf-a0efe3747510",
   "metadata": {},
   "outputs": [
    {
     "data": {
      "text/plain": [
       "Unnamed: 0                      int64\n",
       "Country                        object\n",
       "Continent                      object\n",
       "Production (Tons)             float64\n",
       "Production per Person (Kg)     object\n",
       "Acreage (Hectare)             float64\n",
       "Yield (Kg / Hectare)          float64\n",
       "Production per Person (Kg     float64\n",
       "dtype: object"
      ]
     },
     "execution_count": 23,
     "metadata": {},
     "output_type": "execute_result"
    }
   ],
   "source": [
    "df.dtypes"
   ]
  },
  {
   "cell_type": "code",
   "execution_count": 24,
   "id": "d2e8b426-6de6-4e33-8e49-8656d1aaf73d",
   "metadata": {},
   "outputs": [],
   "source": [
    "df[\"Production per Person (Kg)\"] = df[\"Production per Person (Kg)\"].str.replace(\".\", \"\").str.replace(\",\", \".\").astype(float)\n"
   ]
  },
  {
   "cell_type": "code",
   "execution_count": 25,
   "id": "5ae0451c-ca1b-40d7-b808-081d5365587a",
   "metadata": {},
   "outputs": [
    {
     "data": {
      "text/plain": [
       "Unnamed: 0                      int64\n",
       "Country                        object\n",
       "Continent                      object\n",
       "Production (Tons)             float64\n",
       "Production per Person (Kg)    float64\n",
       "Acreage (Hectare)             float64\n",
       "Yield (Kg / Hectare)          float64\n",
       "Production per Person (Kg     float64\n",
       "dtype: object"
      ]
     },
     "execution_count": 25,
     "metadata": {},
     "output_type": "execute_result"
    }
   ],
   "source": [
    "df.dtypes"
   ]
  },
  {
   "cell_type": "code",
   "execution_count": 26,
   "id": "8bd1504e-e94b-4340-8fbe-c419fa6156f8",
   "metadata": {},
   "outputs": [],
   "source": [
    "df.drop(columns= [\"Unnamed: 0\"], inplace=True)"
   ]
  },
  {
   "cell_type": "code",
   "execution_count": 27,
   "id": "03c07531-59e6-44e5-a9d0-6720ade9163f",
   "metadata": {},
   "outputs": [
    {
     "data": {
      "text/html": [
       "<div>\n",
       "<style scoped>\n",
       "    .dataframe tbody tr th:only-of-type {\n",
       "        vertical-align: middle;\n",
       "    }\n",
       "\n",
       "    .dataframe tbody tr th {\n",
       "        vertical-align: top;\n",
       "    }\n",
       "\n",
       "    .dataframe thead th {\n",
       "        text-align: right;\n",
       "    }\n",
       "</style>\n",
       "<table border=\"1\" class=\"dataframe\">\n",
       "  <thead>\n",
       "    <tr style=\"text-align: right;\">\n",
       "      <th></th>\n",
       "      <th>Country</th>\n",
       "      <th>Continent</th>\n",
       "      <th>Production (Tons)</th>\n",
       "      <th>Production per Person (Kg)</th>\n",
       "      <th>Acreage (Hectare)</th>\n",
       "      <th>Yield (Kg / Hectare)</th>\n",
       "      <th>Production per Person (Kg</th>\n",
       "    </tr>\n",
       "  </thead>\n",
       "  <tbody>\n",
       "    <tr>\n",
       "      <th>0</th>\n",
       "      <td>Brazil</td>\n",
       "      <td>South America</td>\n",
       "      <td>768678382.0</td>\n",
       "      <td>3668531.0</td>\n",
       "      <td>10226205.0</td>\n",
       "      <td>75167.5</td>\n",
       "      <td>3668531.0</td>\n",
       "    </tr>\n",
       "    <tr>\n",
       "      <th>1</th>\n",
       "      <td>India</td>\n",
       "      <td>Asia</td>\n",
       "      <td>348448000.0</td>\n",
       "      <td>260721.0</td>\n",
       "      <td>4950000.0</td>\n",
       "      <td>70393.5</td>\n",
       "      <td>260721.0</td>\n",
       "    </tr>\n",
       "    <tr>\n",
       "      <th>2</th>\n",
       "      <td>China</td>\n",
       "      <td>Asia</td>\n",
       "      <td>123059739.0</td>\n",
       "      <td>88287.0</td>\n",
       "      <td>1675215.0</td>\n",
       "      <td>73459.1</td>\n",
       "      <td>88287.0</td>\n",
       "    </tr>\n",
       "    <tr>\n",
       "      <th>3</th>\n",
       "      <td>Thailand</td>\n",
       "      <td>Asia</td>\n",
       "      <td>87468496.0</td>\n",
       "      <td>1264303.0</td>\n",
       "      <td>1336575.0</td>\n",
       "      <td>65442.2</td>\n",
       "      <td>1264303.0</td>\n",
       "    </tr>\n",
       "    <tr>\n",
       "      <th>4</th>\n",
       "      <td>Pakistan</td>\n",
       "      <td>Asia</td>\n",
       "      <td>65450704.0</td>\n",
       "      <td>324219.0</td>\n",
       "      <td>1130820.0</td>\n",
       "      <td>57879.0</td>\n",
       "      <td>324219.0</td>\n",
       "    </tr>\n",
       "  </tbody>\n",
       "</table>\n",
       "</div>"
      ],
      "text/plain": [
       "    Country      Continent  Production (Tons)  Production per Person (Kg)  \\\n",
       "0    Brazil  South America        768678382.0                   3668531.0   \n",
       "1     India           Asia        348448000.0                    260721.0   \n",
       "2     China           Asia        123059739.0                     88287.0   \n",
       "3  Thailand           Asia         87468496.0                   1264303.0   \n",
       "4  Pakistan           Asia         65450704.0                    324219.0   \n",
       "\n",
       "   Acreage (Hectare)  Yield (Kg / Hectare)  Production per Person (Kg  \n",
       "0         10226205.0               75167.5                  3668531.0  \n",
       "1          4950000.0               70393.5                   260721.0  \n",
       "2          1675215.0               73459.1                    88287.0  \n",
       "3          1336575.0               65442.2                  1264303.0  \n",
       "4          1130820.0               57879.0                   324219.0  "
      ]
     },
     "execution_count": 27,
     "metadata": {},
     "output_type": "execute_result"
    }
   ],
   "source": [
    "df.head()"
   ]
  },
  {
   "cell_type": "code",
   "execution_count": 28,
   "id": "00b646ce-fe01-40e0-8d48-f6cdae573120",
   "metadata": {},
   "outputs": [
    {
     "data": {
      "text/plain": [
       "Country                       0\n",
       "Continent                     0\n",
       "Production (Tons)             0\n",
       "Production per Person (Kg)    0\n",
       "Acreage (Hectare)             1\n",
       "Yield (Kg / Hectare)          1\n",
       "Production per Person (Kg     0\n",
       "dtype: int64"
      ]
     },
     "execution_count": 28,
     "metadata": {},
     "output_type": "execute_result"
    }
   ],
   "source": [
    "df.isnull().sum()"
   ]
  },
  {
   "cell_type": "code",
   "execution_count": 29,
   "id": "a095cf8b-54e9-4d9e-ae05-feb8a2e45160",
   "metadata": {},
   "outputs": [
    {
     "data": {
      "text/html": [
       "<div>\n",
       "<style scoped>\n",
       "    .dataframe tbody tr th:only-of-type {\n",
       "        vertical-align: middle;\n",
       "    }\n",
       "\n",
       "    .dataframe tbody tr th {\n",
       "        vertical-align: top;\n",
       "    }\n",
       "\n",
       "    .dataframe thead th {\n",
       "        text-align: right;\n",
       "    }\n",
       "</style>\n",
       "<table border=\"1\" class=\"dataframe\">\n",
       "  <thead>\n",
       "    <tr style=\"text-align: right;\">\n",
       "      <th></th>\n",
       "      <th>Country</th>\n",
       "      <th>Continent</th>\n",
       "      <th>Production (Tons)</th>\n",
       "      <th>Production per Person (Kg)</th>\n",
       "      <th>Acreage (Hectare)</th>\n",
       "      <th>Yield (Kg / Hectare)</th>\n",
       "      <th>Production per Person (Kg</th>\n",
       "    </tr>\n",
       "  </thead>\n",
       "  <tbody>\n",
       "    <tr>\n",
       "      <th>99</th>\n",
       "      <td>Djibouti</td>\n",
       "      <td>Africa</td>\n",
       "      <td>53.0</td>\n",
       "      <td>51.0</td>\n",
       "      <td>NaN</td>\n",
       "      <td>NaN</td>\n",
       "      <td>51.0</td>\n",
       "    </tr>\n",
       "  </tbody>\n",
       "</table>\n",
       "</div>"
      ],
      "text/plain": [
       "     Country Continent  Production (Tons)  Production per Person (Kg)  \\\n",
       "99  Djibouti    Africa               53.0                        51.0   \n",
       "\n",
       "    Acreage (Hectare)  Yield (Kg / Hectare)  Production per Person (Kg  \n",
       "99                NaN                   NaN                       51.0  "
      ]
     },
     "execution_count": 29,
     "metadata": {},
     "output_type": "execute_result"
    }
   ],
   "source": [
    "df[df[\"Acreage (Hectare)\"].isnull()]"
   ]
  },
  {
   "cell_type": "code",
   "execution_count": 30,
   "id": "993f810b-62f9-4e3b-b239-21389418affd",
   "metadata": {},
   "outputs": [],
   "source": [
    "df.dropna( inplace = True)"
   ]
  },
  {
   "cell_type": "code",
   "execution_count": 31,
   "id": "e886f327-0da2-48ba-92e7-8ab814746354",
   "metadata": {},
   "outputs": [
    {
     "data": {
      "text/plain": [
       "Country                       102\n",
       "Continent                       6\n",
       "Production (Tons)             102\n",
       "Production per Person (Kg)    101\n",
       "Acreage (Hectare)             101\n",
       "Yield (Kg / Hectare)          102\n",
       "Production per Person (Kg     101\n",
       "dtype: int64"
      ]
     },
     "execution_count": 31,
     "metadata": {},
     "output_type": "execute_result"
    }
   ],
   "source": [
    "df.nunique()"
   ]
  },
  {
   "cell_type": "code",
   "execution_count": 32,
   "id": "d2633e2f-3451-4643-9b67-67830377061a",
   "metadata": {},
   "outputs": [
    {
     "data": {
      "text/html": [
       "<div>\n",
       "<style scoped>\n",
       "    .dataframe tbody tr th:only-of-type {\n",
       "        vertical-align: middle;\n",
       "    }\n",
       "\n",
       "    .dataframe tbody tr th {\n",
       "        vertical-align: top;\n",
       "    }\n",
       "\n",
       "    .dataframe thead th {\n",
       "        text-align: right;\n",
       "    }\n",
       "</style>\n",
       "<table border=\"1\" class=\"dataframe\">\n",
       "  <thead>\n",
       "    <tr style=\"text-align: right;\">\n",
       "      <th></th>\n",
       "      <th>Production (Tons)</th>\n",
       "      <th>Production per Person (Kg)</th>\n",
       "      <th>Acreage (Hectare)</th>\n",
       "      <th>Yield (Kg / Hectare)</th>\n",
       "      <th>Production per Person (Kg</th>\n",
       "    </tr>\n",
       "  </thead>\n",
       "  <tbody>\n",
       "    <tr>\n",
       "      <th>count</th>\n",
       "      <td>1.020000e+02</td>\n",
       "      <td>1.020000e+02</td>\n",
       "      <td>1.020000e+02</td>\n",
       "      <td>102.000000</td>\n",
       "      <td>1.020000e+02</td>\n",
       "    </tr>\n",
       "    <tr>\n",
       "      <th>mean</th>\n",
       "      <td>1.850372e+07</td>\n",
       "      <td>4.124805e+05</td>\n",
       "      <td>2.498981e+05</td>\n",
       "      <td>52628.078431</td>\n",
       "      <td>4.124805e+05</td>\n",
       "    </tr>\n",
       "    <tr>\n",
       "      <th>std</th>\n",
       "      <td>8.419149e+07</td>\n",
       "      <td>8.669140e+05</td>\n",
       "      <td>1.137003e+06</td>\n",
       "      <td>30504.676683</td>\n",
       "      <td>8.669140e+05</td>\n",
       "    </tr>\n",
       "    <tr>\n",
       "      <th>min</th>\n",
       "      <td>1.000000e+00</td>\n",
       "      <td>0.000000e+00</td>\n",
       "      <td>0.000000e+00</td>\n",
       "      <td>10.000000</td>\n",
       "      <td>0.000000e+00</td>\n",
       "    </tr>\n",
       "    <tr>\n",
       "      <th>25%</th>\n",
       "      <td>6.251875e+04</td>\n",
       "      <td>1.075225e+04</td>\n",
       "      <td>1.104000e+03</td>\n",
       "      <td>29072.025000</td>\n",
       "      <td>1.075225e+04</td>\n",
       "    </tr>\n",
       "    <tr>\n",
       "      <th>50%</th>\n",
       "      <td>1.440044e+06</td>\n",
       "      <td>8.135850e+04</td>\n",
       "      <td>1.655800e+04</td>\n",
       "      <td>54108.950000</td>\n",
       "      <td>8.135850e+04</td>\n",
       "    </tr>\n",
       "    <tr>\n",
       "      <th>75%</th>\n",
       "      <td>6.426824e+06</td>\n",
       "      <td>2.828128e+05</td>\n",
       "      <td>8.047400e+04</td>\n",
       "      <td>73282.700000</td>\n",
       "      <td>2.828128e+05</td>\n",
       "    </tr>\n",
       "    <tr>\n",
       "      <th>max</th>\n",
       "      <td>7.686784e+08</td>\n",
       "      <td>4.816299e+06</td>\n",
       "      <td>1.022620e+07</td>\n",
       "      <td>129049.300000</td>\n",
       "      <td>4.816299e+06</td>\n",
       "    </tr>\n",
       "  </tbody>\n",
       "</table>\n",
       "</div>"
      ],
      "text/plain": [
       "       Production (Tons)  Production per Person (Kg)  Acreage (Hectare)  \\\n",
       "count       1.020000e+02                1.020000e+02       1.020000e+02   \n",
       "mean        1.850372e+07                4.124805e+05       2.498981e+05   \n",
       "std         8.419149e+07                8.669140e+05       1.137003e+06   \n",
       "min         1.000000e+00                0.000000e+00       0.000000e+00   \n",
       "25%         6.251875e+04                1.075225e+04       1.104000e+03   \n",
       "50%         1.440044e+06                8.135850e+04       1.655800e+04   \n",
       "75%         6.426824e+06                2.828128e+05       8.047400e+04   \n",
       "max         7.686784e+08                4.816299e+06       1.022620e+07   \n",
       "\n",
       "       Yield (Kg / Hectare)  Production per Person (Kg  \n",
       "count            102.000000               1.020000e+02  \n",
       "mean           52628.078431               4.124805e+05  \n",
       "std            30504.676683               8.669140e+05  \n",
       "min               10.000000               0.000000e+00  \n",
       "25%            29072.025000               1.075225e+04  \n",
       "50%            54108.950000               8.135850e+04  \n",
       "75%            73282.700000               2.828128e+05  \n",
       "max           129049.300000               4.816299e+06  "
      ]
     },
     "execution_count": 32,
     "metadata": {},
     "output_type": "execute_result"
    }
   ],
   "source": [
    "df.describe()"
   ]
  },
  {
   "cell_type": "code",
   "execution_count": 33,
   "id": "8b407026-8d47-4499-99e2-6c0eccfc09c7",
   "metadata": {},
   "outputs": [
    {
     "name": "stdout",
     "output_type": "stream",
     "text": [
      "Country with minimum production: Syria\n"
     ]
    }
   ],
   "source": [
    "\n",
    "min_row = df.loc[df[\"Production (Tons)\"].idxmin()]\n",
    "\n",
    "\n",
    "print(\"Country with minimum production:\", min_row[\"Country\"])\n"
   ]
  },
  {
   "cell_type": "code",
   "execution_count": 34,
   "id": "571b5caf-40e7-4e27-ab15-d816245581a5",
   "metadata": {},
   "outputs": [
    {
     "data": {
      "text/html": [
       "<div>\n",
       "<style scoped>\n",
       "    .dataframe tbody tr th:only-of-type {\n",
       "        vertical-align: middle;\n",
       "    }\n",
       "\n",
       "    .dataframe tbody tr th {\n",
       "        vertical-align: top;\n",
       "    }\n",
       "\n",
       "    .dataframe thead th {\n",
       "        text-align: right;\n",
       "    }\n",
       "</style>\n",
       "<table border=\"1\" class=\"dataframe\">\n",
       "  <thead>\n",
       "    <tr style=\"text-align: right;\">\n",
       "      <th></th>\n",
       "      <th>Country</th>\n",
       "      <th>Continent</th>\n",
       "      <th>Production (Tons)</th>\n",
       "      <th>Production per Person (Kg)</th>\n",
       "      <th>Acreage (Hectare)</th>\n",
       "      <th>Yield (Kg / Hectare)</th>\n",
       "      <th>Production per Person (Kg</th>\n",
       "    </tr>\n",
       "  </thead>\n",
       "  <tbody>\n",
       "    <tr>\n",
       "      <th>0</th>\n",
       "      <td>Brazil</td>\n",
       "      <td>South America</td>\n",
       "      <td>768678382.0</td>\n",
       "      <td>3668531.0</td>\n",
       "      <td>10226205.0</td>\n",
       "      <td>75167.5</td>\n",
       "      <td>3668531.0</td>\n",
       "    </tr>\n",
       "    <tr>\n",
       "      <th>1</th>\n",
       "      <td>India</td>\n",
       "      <td>Asia</td>\n",
       "      <td>348448000.0</td>\n",
       "      <td>260721.0</td>\n",
       "      <td>4950000.0</td>\n",
       "      <td>70393.5</td>\n",
       "      <td>260721.0</td>\n",
       "    </tr>\n",
       "    <tr>\n",
       "      <th>2</th>\n",
       "      <td>China</td>\n",
       "      <td>Asia</td>\n",
       "      <td>123059739.0</td>\n",
       "      <td>88287.0</td>\n",
       "      <td>1675215.0</td>\n",
       "      <td>73459.1</td>\n",
       "      <td>88287.0</td>\n",
       "    </tr>\n",
       "    <tr>\n",
       "      <th>3</th>\n",
       "      <td>Thailand</td>\n",
       "      <td>Asia</td>\n",
       "      <td>87468496.0</td>\n",
       "      <td>1264303.0</td>\n",
       "      <td>1336575.0</td>\n",
       "      <td>65442.2</td>\n",
       "      <td>1264303.0</td>\n",
       "    </tr>\n",
       "    <tr>\n",
       "      <th>4</th>\n",
       "      <td>Pakistan</td>\n",
       "      <td>Asia</td>\n",
       "      <td>65450704.0</td>\n",
       "      <td>324219.0</td>\n",
       "      <td>1130820.0</td>\n",
       "      <td>57879.0</td>\n",
       "      <td>324219.0</td>\n",
       "    </tr>\n",
       "  </tbody>\n",
       "</table>\n",
       "</div>"
      ],
      "text/plain": [
       "    Country      Continent  Production (Tons)  Production per Person (Kg)  \\\n",
       "0    Brazil  South America        768678382.0                   3668531.0   \n",
       "1     India           Asia        348448000.0                    260721.0   \n",
       "2     China           Asia        123059739.0                     88287.0   \n",
       "3  Thailand           Asia         87468496.0                   1264303.0   \n",
       "4  Pakistan           Asia         65450704.0                    324219.0   \n",
       "\n",
       "   Acreage (Hectare)  Yield (Kg / Hectare)  Production per Person (Kg  \n",
       "0         10226205.0               75167.5                  3668531.0  \n",
       "1          4950000.0               70393.5                   260721.0  \n",
       "2          1675215.0               73459.1                    88287.0  \n",
       "3          1336575.0               65442.2                  1264303.0  \n",
       "4          1130820.0               57879.0                   324219.0  "
      ]
     },
     "execution_count": 34,
     "metadata": {},
     "output_type": "execute_result"
    }
   ],
   "source": [
    "df.head()"
   ]
  },
  {
   "cell_type": "markdown",
   "id": "5ddf0749-61d7-45ab-9b08-63f4daa1d821",
   "metadata": {},
   "source": [
    "1. How many countries produce sugarcane from each continent?\n",
    "2. which country produces maximum sugar cane and minimum sugarcane?\n",
    "3. which country has highest land?\n",
    "4. which country has the highest production in terms of tons?"
   ]
  },
  {
   "cell_type": "code",
   "execution_count": 35,
   "id": "ac39a729-8caa-4a08-9006-5b96f14daa4c",
   "metadata": {},
   "outputs": [
    {
     "data": {
      "text/plain": [
       "(8    Guatemala\n",
       " Name: Country, dtype: object,\n",
       " 96    Yemen\n",
       " Name: Country, dtype: object)"
      ]
     },
     "execution_count": 35,
     "metadata": {},
     "output_type": "execute_result"
    }
   ],
   "source": [
    "max_yield_country = df[df['Yield (Kg / Hectare)'] == df['Yield (Kg / Hectare)'].max()]['Country']\n",
    "min_yield_country = df[df['Yield (Kg / Hectare)'] == df['Yield (Kg / Hectare)'].min()]['Country']\n",
    "max_yield_country, min_yield_country\n"
   ]
  },
  {
   "cell_type": "code",
   "execution_count": 36,
   "id": "18c68831-6298-44de-8d22-657daaab0296",
   "metadata": {},
   "outputs": [
    {
     "data": {
      "text/plain": [
       "Continent\n",
       "Africa           38\n",
       "Asia             25\n",
       "North America    22\n",
       "South America    11\n",
       "Oceania           4\n",
       "Europe            2\n",
       "Name: count, dtype: int64"
      ]
     },
     "execution_count": 36,
     "metadata": {},
     "output_type": "execute_result"
    }
   ],
   "source": [
    "df[\"Continent\"].value_counts()"
   ]
  },
  {
   "cell_type": "code",
   "execution_count": 37,
   "id": "13882f3a-8fa5-4167-9e26-9af72bf70488",
   "metadata": {},
   "outputs": [
    {
     "data": {
      "text/plain": [
       "<Axes: xlabel='Continent'>"
      ]
     },
     "execution_count": 37,
     "metadata": {},
     "output_type": "execute_result"
    },
    {
     "data": {
      "image/png": "[encoded data removed]",
      "text/plain": [
       "<Figure size 640x480 with 1 Axes>"
      ]
     },
     "metadata": {},
     "output_type": "display_data"
    }
   ],
   "source": [
    "df[\"Continent\"].value_counts().plot(kind = \"bar\")"
   ]
  },
  {
   "cell_type": "code",
   "execution_count": 38,
   "id": "131ccae4-fa02-451c-ae69-7cfe3e09ec5f",
   "metadata": {},
   "outputs": [
    {
     "data": {
      "text/plain": [
       "<Axes: ylabel='count'>"
      ]
     },
     "execution_count": 38,
     "metadata": {},
     "output_type": "execute_result"
    },
    {
     "data": {
      "image/png": "[encoded data removed]",
      "text/plain": [
       "<Figure size 640x480 with 1 Axes>"
      ]
     },
     "metadata": {},
     "output_type": "display_data"
    }
   ],
   "source": [
    "df[\"Continent\"].value_counts().plot(kind = \"pie\", autopct=\"%.2f\")"
   ]
  },
  {
   "cell_type": "code",
   "execution_count": 39,
   "id": "d9654c0f-34d6-4a63-b560-c7eee99d39ce",
   "metadata": {},
   "outputs": [
    {
     "data": {
      "text/plain": [
       "np.float64(768678382.0)"
      ]
     },
     "execution_count": 39,
     "metadata": {},
     "output_type": "execute_result"
    }
   ],
   "source": [
    "df['Production (Tons)'].max()"
   ]
  },
  {
   "cell_type": "code",
   "execution_count": 40,
   "id": "0b5dd5c7-db8c-4d4e-97a7-dff31d8ed2d2",
   "metadata": {},
   "outputs": [
    {
     "data": {
      "text/plain": [
       "0    Brazil\n",
       "Name: Country, dtype: object"
      ]
     },
     "execution_count": 40,
     "metadata": {},
     "output_type": "execute_result"
    }
   ],
   "source": [
    "max_production_country = df[df['Production (Tons)'] == df['Production (Tons)'].max()]['Country']\n",
    "max_production_country"
   ]
  },
  {
   "cell_type": "code",
   "execution_count": 41,
   "id": "52a6bc2d-9db7-4111-a6c5-60282a89017c",
   "metadata": {},
   "outputs": [
    {
     "data": {
      "text/plain": [
       "'Brazil'"
      ]
     },
     "execution_count": 41,
     "metadata": {},
     "output_type": "execute_result"
    }
   ],
   "source": [
    "df[df['Production (Tons)'] == df['Production (Tons)'].max()]['Country'].values[0]"
   ]
  },
  {
   "cell_type": "code",
   "execution_count": 42,
   "id": "3b51cd3c-048c-4b90-88c6-98c84254e222",
   "metadata": {},
   "outputs": [
    {
     "data": {
      "text/html": [
       "<div>\n",
       "<style scoped>\n",
       "    .dataframe tbody tr th:only-of-type {\n",
       "        vertical-align: middle;\n",
       "    }\n",
       "\n",
       "    .dataframe tbody tr th {\n",
       "        vertical-align: top;\n",
       "    }\n",
       "\n",
       "    .dataframe thead th {\n",
       "        text-align: right;\n",
       "    }\n",
       "</style>\n",
       "<table border=\"1\" class=\"dataframe\">\n",
       "  <thead>\n",
       "    <tr style=\"text-align: right;\">\n",
       "      <th></th>\n",
       "      <th>Production (Tons)</th>\n",
       "    </tr>\n",
       "    <tr>\n",
       "      <th>Country</th>\n",
       "      <th></th>\n",
       "    </tr>\n",
       "  </thead>\n",
       "  <tbody>\n",
       "    <tr>\n",
       "      <th>Brazil</th>\n",
       "      <td>768678382.0</td>\n",
       "    </tr>\n",
       "    <tr>\n",
       "      <th>India</th>\n",
       "      <td>348448000.0</td>\n",
       "    </tr>\n",
       "    <tr>\n",
       "      <th>China</th>\n",
       "      <td>123059739.0</td>\n",
       "    </tr>\n",
       "    <tr>\n",
       "      <th>Thailand</th>\n",
       "      <td>87468496.0</td>\n",
       "    </tr>\n",
       "    <tr>\n",
       "      <th>Pakistan</th>\n",
       "      <td>65450704.0</td>\n",
       "    </tr>\n",
       "    <tr>\n",
       "      <th>...</th>\n",
       "      <td>...</td>\n",
       "    </tr>\n",
       "    <tr>\n",
       "      <th>Spain</th>\n",
       "      <td>394.0</td>\n",
       "    </tr>\n",
       "    <tr>\n",
       "      <th>Lebanon</th>\n",
       "      <td>97.0</td>\n",
       "    </tr>\n",
       "    <tr>\n",
       "      <th>Singapore</th>\n",
       "      <td>50.0</td>\n",
       "    </tr>\n",
       "    <tr>\n",
       "      <th>Samoa</th>\n",
       "      <td>12.0</td>\n",
       "    </tr>\n",
       "    <tr>\n",
       "      <th>Syria</th>\n",
       "      <td>1.0</td>\n",
       "    </tr>\n",
       "  </tbody>\n",
       "</table>\n",
       "<p>102 rows × 1 columns</p>\n",
       "</div>"
      ],
      "text/plain": [
       "           Production (Tons)\n",
       "Country                     \n",
       "Brazil           768678382.0\n",
       "India            348448000.0\n",
       "China            123059739.0\n",
       "Thailand          87468496.0\n",
       "Pakistan          65450704.0\n",
       "...                      ...\n",
       "Spain                  394.0\n",
       "Lebanon                 97.0\n",
       "Singapore               50.0\n",
       "Samoa                   12.0\n",
       "Syria                    1.0\n",
       "\n",
       "[102 rows x 1 columns]"
      ]
     },
     "execution_count": 42,
     "metadata": {},
     "output_type": "execute_result"
    }
   ],
   "source": [
    "df_new= df[[\"Country\", \"Production (Tons)\"]].set_index(\"Country\")\n",
    "df_new"
   ]
  },
  {
   "cell_type": "code",
   "execution_count": 43,
   "id": "cdd714cb-2c4b-4e69-8929-6f758cf09352",
   "metadata": {},
   "outputs": [
    {
     "data": {
      "text/plain": [
       "Country\n",
       "Brazil         768678382.0\n",
       "India          348448000.0\n",
       "China          123059739.0\n",
       "Thailand        87468496.0\n",
       "Pakistan        65450704.0\n",
       "                  ...     \n",
       "Lebanon               97.0\n",
       "Singapore             50.0\n",
       "Samoa                 12.0\n",
       "Saint Lucia           10.0\n",
       "Syria                  1.0\n",
       "Name: Production (Tons), Length: 102, dtype: float64"
      ]
     },
     "execution_count": 43,
     "metadata": {},
     "output_type": "execute_result"
    }
   ],
   "source": [
    "df_new_sorted = df_new['Production (Tons)'].sort_values(ascending = False)\n",
    "df_new_sorted"
   ]
  },
  {
   "cell_type": "code",
   "execution_count": 44,
   "id": "43235e52-e728-46e9-adf5-a289d652c679",
   "metadata": {},
   "outputs": [
    {
     "data": {
      "text/plain": [
       "<Axes: xlabel='Country'>"
      ]
     },
     "execution_count": 44,
     "metadata": {},
     "output_type": "execute_result"
    },
    {
     "data": {
      "image/png": "[encoded data removed]",
      "text/plain": [
       "<Figure size 640x480 with 1 Axes>"
      ]
     },
     "metadata": {},
     "output_type": "display_data"
    }
   ],
   "source": [
    "df_new_sorted.head(10).plot(kind = \"bar\", color = [\"red\", \"green\", \"blue\", \"orange\", \"yellow\",\"purple\", \"pink\", \"brown\", \"black\", \"lime\"])"
   ]
  },
  {
   "cell_type": "code",
   "execution_count": 45,
   "id": "611ed12e-6f71-4746-9008-376e54e58338",
   "metadata": {},
   "outputs": [
    {
     "name": "stderr",
     "output_type": "stream",
     "text": [
      "C:\\Users\\Sourav\\AppData\\Local\\Temp\\ipykernel_15864\\1063331365.py:1: MatplotlibDeprecationWarning: The get_cmap function was deprecated in Matplotlib 3.7 and will be removed in 3.11. Use ``matplotlib.colormaps[name]`` or ``matplotlib.colormaps.get_cmap()`` or ``pyplot.get_cmap()`` instead.\n",
      "  df_new_sorted.head(10).plot(kind = \"bar\", color =plt.cm.get_cmap(\"tab10\", 10).colors)\n"
     ]
    },
    {
     "data": {
      "text/plain": [
       "<Axes: xlabel='Country'>"
      ]
     },
     "execution_count": 45,
     "metadata": {},
     "output_type": "execute_result"
    },
    {
     "data": {
      "image/png": "[encoded data removed]",
      "text/plain": [
       "<Figure size 640x480 with 1 Axes>"
      ]
     },
     "metadata": {},
     "output_type": "display_data"
    }
   ],
   "source": [
    "df_new_sorted.head(10).plot(kind = \"bar\", color =plt.cm.get_cmap(\"tab10\", 10).colors)"
   ]
  },
  {
   "cell_type": "code",
   "execution_count": 46,
   "id": "13a37c88-42dc-4135-947e-c8fe0fa9e321",
   "metadata": {},
   "outputs": [
    {
     "data": {
      "text/plain": [
       "'Brazil'"
      ]
     },
     "execution_count": 46,
     "metadata": {},
     "output_type": "execute_result"
    }
   ],
   "source": [
    "highest_land_country = df[df['Acreage (Hectare)'] == df['Acreage (Hectare)'].max()]['Country'].values[0]\n",
    "highest_land_country"
   ]
  },
  {
   "cell_type": "code",
   "execution_count": 47,
   "id": "2814a599-5e7b-42ca-aef9-f09e338ea9c6",
   "metadata": {},
   "outputs": [
    {
     "data": {
      "text/plain": [
       "'Syria'"
      ]
     },
     "execution_count": 47,
     "metadata": {},
     "output_type": "execute_result"
    }
   ],
   "source": [
    "lowest_land_country = df[df['Acreage (Hectare)'] == df['Acreage (Hectare)'].min()]['Country'].values[0]\n",
    "lowest_land_country"
   ]
  },
  {
   "cell_type": "code",
   "execution_count": 48,
   "id": "22756cc1-3cc0-4f63-a896-655c73366961",
   "metadata": {},
   "outputs": [
    {
     "data": {
      "text/plain": [
       "(     Country  Yield (Kg / Hectare)\n",
       " 8  Guatemala              129049.3,\n",
       "    Country  Yield (Kg / Hectare)\n",
       " 96   Yemen                  10.0)"
      ]
     },
     "execution_count": 48,
     "metadata": {},
     "output_type": "execute_result"
    }
   ],
   "source": [
    "max_yield_country = df[df['Yield (Kg / Hectare)'] == df['Yield (Kg / Hectare)'].max()][['Country',\"Yield (Kg / Hectare)\"]]\n",
    "min_yield_country = df[df['Yield (Kg / Hectare)'] == df['Yield (Kg / Hectare)'].min()][['Country',\"Yield (Kg / Hectare)\"]]\n",
    "max_yield_country, min_yield_country"
   ]
  },
  {
   "cell_type": "code",
   "execution_count": 49,
   "id": "19a59561-d777-45b6-b04f-b38d3a8df881",
   "metadata": {},
   "outputs": [
    {
     "data": {
      "text/html": [
       "<div>\n",
       "<style scoped>\n",
       "    .dataframe tbody tr th:only-of-type {\n",
       "        vertical-align: middle;\n",
       "    }\n",
       "\n",
       "    .dataframe tbody tr th {\n",
       "        vertical-align: top;\n",
       "    }\n",
       "\n",
       "    .dataframe thead th {\n",
       "        text-align: right;\n",
       "    }\n",
       "</style>\n",
       "<table border=\"1\" class=\"dataframe\">\n",
       "  <thead>\n",
       "    <tr style=\"text-align: right;\">\n",
       "      <th></th>\n",
       "      <th>Production (Tons)</th>\n",
       "      <th>Acreage (Hectare)</th>\n",
       "    </tr>\n",
       "    <tr>\n",
       "      <th>Continent</th>\n",
       "      <th></th>\n",
       "      <th></th>\n",
       "    </tr>\n",
       "  </thead>\n",
       "  <tbody>\n",
       "    <tr>\n",
       "      <th>Africa</th>\n",
       "      <td>89681472.0</td>\n",
       "      <td>1439089.0</td>\n",
       "    </tr>\n",
       "    <tr>\n",
       "      <th>Asia</th>\n",
       "      <td>721930425.0</td>\n",
       "      <td>10608319.0</td>\n",
       "    </tr>\n",
       "    <tr>\n",
       "      <th>Europe</th>\n",
       "      <td>5823.0</td>\n",
       "      <td>71.0</td>\n",
       "    </tr>\n",
       "    <tr>\n",
       "      <th>North America</th>\n",
       "      <td>173995947.0</td>\n",
       "      <td>1581983.0</td>\n",
       "    </tr>\n",
       "    <tr>\n",
       "      <th>Oceania</th>\n",
       "      <td>36177574.0</td>\n",
       "      <td>490909.0</td>\n",
       "    </tr>\n",
       "    <tr>\n",
       "      <th>South America</th>\n",
       "      <td>865588126.0</td>\n",
       "      <td>11369236.0</td>\n",
       "    </tr>\n",
       "  </tbody>\n",
       "</table>\n",
       "</div>"
      ],
      "text/plain": [
       "               Production (Tons)  Acreage (Hectare)\n",
       "Continent                                          \n",
       "Africa                89681472.0          1439089.0\n",
       "Asia                 721930425.0         10608319.0\n",
       "Europe                    5823.0               71.0\n",
       "North America        173995947.0          1581983.0\n",
       "Oceania               36177574.0           490909.0\n",
       "South America        865588126.0         11369236.0"
      ]
     },
     "execution_count": 49,
     "metadata": {},
     "output_type": "execute_result"
    }
   ],
   "source": [
    "df_continent = df.groupby(\"Continent\").sum()[[\"Production (Tons)\",\"Acreage (Hectare)\" ]]\n",
    "df_continent"
   ]
  },
  {
   "cell_type": "code",
   "execution_count": 50,
   "id": "49d0160a-caa7-4bd1-a73a-40ad131265b6",
   "metadata": {},
   "outputs": [],
   "source": [
    "df_continent[\"Yield(kg/hectare)_cont\"] = df_continent[\"Production (Tons)\"]/df_continent[\"Acreage (Hectare)\"]"
   ]
  },
  {
   "cell_type": "code",
   "execution_count": 51,
   "id": "db29f16f-b03a-415d-ba47-7a0e184a8c58",
   "metadata": {},
   "outputs": [
    {
     "data": {
      "text/html": [
       "<div>\n",
       "<style scoped>\n",
       "    .dataframe tbody tr th:only-of-type {\n",
       "        vertical-align: middle;\n",
       "    }\n",
       "\n",
       "    .dataframe tbody tr th {\n",
       "        vertical-align: top;\n",
       "    }\n",
       "\n",
       "    .dataframe thead th {\n",
       "        text-align: right;\n",
       "    }\n",
       "</style>\n",
       "<table border=\"1\" class=\"dataframe\">\n",
       "  <thead>\n",
       "    <tr style=\"text-align: right;\">\n",
       "      <th></th>\n",
       "      <th>Production (Tons)</th>\n",
       "      <th>Acreage (Hectare)</th>\n",
       "      <th>Yield(kg/hectare)_cont</th>\n",
       "    </tr>\n",
       "    <tr>\n",
       "      <th>Continent</th>\n",
       "      <th></th>\n",
       "      <th></th>\n",
       "      <th></th>\n",
       "    </tr>\n",
       "  </thead>\n",
       "  <tbody>\n",
       "    <tr>\n",
       "      <th>Africa</th>\n",
       "      <td>89681472.0</td>\n",
       "      <td>1439089.0</td>\n",
       "      <td>62.318225</td>\n",
       "    </tr>\n",
       "    <tr>\n",
       "      <th>Asia</th>\n",
       "      <td>721930425.0</td>\n",
       "      <td>10608319.0</td>\n",
       "      <td>68.053235</td>\n",
       "    </tr>\n",
       "    <tr>\n",
       "      <th>Europe</th>\n",
       "      <td>5823.0</td>\n",
       "      <td>71.0</td>\n",
       "      <td>82.014085</td>\n",
       "    </tr>\n",
       "    <tr>\n",
       "      <th>North America</th>\n",
       "      <td>173995947.0</td>\n",
       "      <td>1581983.0</td>\n",
       "      <td>109.985978</td>\n",
       "    </tr>\n",
       "    <tr>\n",
       "      <th>Oceania</th>\n",
       "      <td>36177574.0</td>\n",
       "      <td>490909.0</td>\n",
       "      <td>73.695072</td>\n",
       "    </tr>\n",
       "    <tr>\n",
       "      <th>South America</th>\n",
       "      <td>865588126.0</td>\n",
       "      <td>11369236.0</td>\n",
       "      <td>76.134239</td>\n",
       "    </tr>\n",
       "  </tbody>\n",
       "</table>\n",
       "</div>"
      ],
      "text/plain": [
       "               Production (Tons)  Acreage (Hectare)  Yield(kg/hectare)_cont\n",
       "Continent                                                                  \n",
       "Africa                89681472.0          1439089.0               62.318225\n",
       "Asia                 721930425.0         10608319.0               68.053235\n",
       "Europe                    5823.0               71.0               82.014085\n",
       "North America        173995947.0          1581983.0              109.985978\n",
       "Oceania               36177574.0           490909.0               73.695072\n",
       "South America        865588126.0         11369236.0               76.134239"
      ]
     },
     "execution_count": 51,
     "metadata": {},
     "output_type": "execute_result"
    }
   ],
   "source": [
    "df_continent"
   ]
  },
  {
   "cell_type": "code",
   "execution_count": null,
   "id": "3384b313-27f7-4a56-b1cf-2ba091e7d7ec",
   "metadata": {},
   "outputs": [],
   "source": []
  }
 ],
 "metadata": {
  "kernelspec": {
   "display_name": "Python 3 (ipykernel)",
   "language": "python",
   "name": "python3"
  },
  "language_info": {
   "codemirror_mode": {
    "name": "ipython",
    "version": 3
   },
   "file_extension": ".py",
   "mimetype": "text/x-python",
   "name": "python",
   "nbconvert_exporter": "python",
   "pygments_lexer": "ipython3",
   "version": "3.12.4"
  }
 },
 "nbformat": 4,
 "nbformat_minor": 5
}
